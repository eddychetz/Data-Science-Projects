{
  "nbformat": 4,
  "nbformat_minor": 0,
  "metadata": {
    "colab": {
      "name": "Untitled1.ipynb",
      "provenance": [],
      "collapsed_sections": [],
      "authorship_tag": "ABX9TyP1cz6lqQnV9gJGfPu++rd1",
      "include_colab_link": true
    },
    "kernelspec": {
      "name": "python3",
      "display_name": "Python 3"
    }
  },
  "cells": [
    {
      "cell_type": "markdown",
      "metadata": {
        "id": "view-in-github",
        "colab_type": "text"
      },
      "source": [
        "<a href=\"https://colab.research.google.com/github/eddychetz/Python-Basics-for-Data-Science-Project/blob/main/Deep%20Learning%20using%20CNN.ipynb\" target=\"_parent\"><img src=\"https://colab.research.google.com/assets/colab-badge.svg\" alt=\"Open In Colab\"/></a>"
      ]
    },
    {
      "cell_type": "markdown",
      "metadata": {
        "id": "LZOGppCKxo5h"
      },
      "source": [
        "# Convolutional Neural Network from scratch using Python"
      ]
    },
    {
      "cell_type": "markdown",
      "metadata": {
        "id": "qo5nGPMBxoQu"
      },
      "source": [
        "## 1. Loading dataset"
      ]
    },
    {
      "cell_type": "markdown",
      "metadata": {
        "id": "16L-3ZmGyEaH"
      },
      "source": [
        "In this post, we’ll tackle the “Hello, World!” of Computer Vision: the MNIST handwritten digit classification problem. It’s simple: given an image, classify it as a digit.\n",
        "\n",
        "Each image in the MNIST dataset is 28x28 and contains a centered, grayscale digit.\n",
        "\n",
        "Truth be told, a normal neural network would actually work just fine for this problem. You could treat each image as a 28 x 28 = 784-dimensional vector, feed that to a 784-dim input layer, stack a few hidden layers, and finish with an output layer of 10 nodes, 1 for each digit.\n",
        "\n",
        "This would only work because the MNIST dataset contains small images that are centered, so we wouldn’t run into the aforementioned issues of size or shifting. Keep in mind throughout the course of this post, however, that most real-world image classification problems aren’t this easy.\n",
        "\n",
        "Enough buildup. Let’s get into CNNs!"
      ]
    },
    {
      "cell_type": "code",
      "metadata": {
        "id": "bLKnKiDpxTVz"
      },
      "source": [
        "from numpy import array \n",
        "import pandas as pd #data structure and tools\n",
        "import numpy as np #arrays and matrices\n",
        "import tensorflow as tf #deep learning: production and deployment\n",
        "from tensorflow import keras as ks #deep learning lib\n",
        "import seaborn as sns                       #visualisation\n",
        "import matplotlib.pyplot as plt             #visualisation\n",
        "%matplotlib inline     \n",
        "sns.set(color_codes=True)"
      ],
      "execution_count": 1,
      "outputs": []
    },
    {
      "cell_type": "markdown",
      "metadata": {
        "id": "x2LUHSk8JJKI"
      },
      "source": [
        "## Loading dataset"
      ]
    },
    {
      "cell_type": "code",
      "metadata": {
        "id": "zzRlg0ecyTiz",
        "outputId": "9dc28956-184e-41e5-aa70-1a8b44ea01f5",
        "colab": {
          "base_uri": "https://localhost:8080/",
          "height": 333
        }
      },
      "source": [
        "import rdata\n",
        "\n",
        "mnist = rdata.parser.parse_file(rdata.TESTDATA_PATH / \"mnist_27.rda\")"
      ],
      "execution_count": 19,
      "outputs": [
        {
          "output_type": "error",
          "ename": "ModuleNotFoundError",
          "evalue": "ignored",
          "traceback": [
            "\u001b[0;31m---------------------------------------------------------------------------\u001b[0m",
            "\u001b[0;31mModuleNotFoundError\u001b[0m                       Traceback (most recent call last)",
            "\u001b[0;32m<ipython-input-19-7c1badd9cf49>\u001b[0m in \u001b[0;36m<module>\u001b[0;34m()\u001b[0m\n\u001b[0;32m----> 1\u001b[0;31m \u001b[0;32mimport\u001b[0m \u001b[0mrdata\u001b[0m\u001b[0;34m\u001b[0m\u001b[0;34m\u001b[0m\u001b[0m\n\u001b[0m\u001b[1;32m      2\u001b[0m \u001b[0;34m\u001b[0m\u001b[0m\n\u001b[1;32m      3\u001b[0m \u001b[0mmnist\u001b[0m \u001b[0;34m=\u001b[0m \u001b[0mrdata\u001b[0m\u001b[0;34m.\u001b[0m\u001b[0mparser\u001b[0m\u001b[0;34m.\u001b[0m\u001b[0mparse_file\u001b[0m\u001b[0;34m(\u001b[0m\u001b[0mrdata\u001b[0m\u001b[0;34m.\u001b[0m\u001b[0mTESTDATA_PATH\u001b[0m \u001b[0;34m/\u001b[0m \u001b[0;34m\"mnist_27.rda\"\u001b[0m\u001b[0;34m)\u001b[0m\u001b[0;34m\u001b[0m\u001b[0;34m\u001b[0m\u001b[0m\n",
            "\u001b[0;31mModuleNotFoundError\u001b[0m: No module named 'rdata'",
            "",
            "\u001b[0;31m---------------------------------------------------------------------------\u001b[0;32m\nNOTE: If your import is failing due to a missing package, you can\nmanually install dependencies using either !pip or !apt.\n\nTo view examples of installing some common dependencies, click the\n\"Open Examples\" button below.\n\u001b[0;31m---------------------------------------------------------------------------\u001b[0m\n"
          ]
        }
      ]
    },
    {
      "cell_type": "code",
      "metadata": {
        "id": "9t7UTWyQ4J1b"
      },
      "source": [
        "mnist_train = pd.read_json('http://yann.lecun.com/exdb/mnist/train-images-idx3-ubyte.gz')"
      ],
      "execution_count": null,
      "outputs": []
    },
    {
      "cell_type": "code",
      "metadata": {
        "id": "mf0bUMkyRo8_"
      },
      "source": [
        "x_train_n = x_train_full/255\n",
        "x_test_n = x_test/255"
      ],
      "execution_count": null,
      "outputs": []
    },
    {
      "cell_type": "markdown",
      "metadata": {
        "id": "geUS7EDmJNsF"
      },
      "source": [
        "##Splitting the dataset"
      ]
    },
    {
      "cell_type": "markdown",
      "metadata": {
        "id": "qd7x1itQSNSQ"
      },
      "source": [
        ""
      ]
    },
    {
      "cell_type": "code",
      "metadata": {
        "id": "_HHEHFeVJSfs"
      },
      "source": [
        "x_valid, x_train = x_train_n[:5000], x_train_n[5000:]\n",
        "y_valid, y_train = y_train_full[:5000], y_train_full[5000:]\n",
        "x_test = x_test_n"
      ],
      "execution_count": null,
      "outputs": []
    },
    {
      "cell_type": "code",
      "metadata": {
        "id": "Zj-L3Bj6RD3k"
      },
      "source": [
        "x_valid[0]"
      ],
      "execution_count": null,
      "outputs": []
    },
    {
      "cell_type": "markdown",
      "metadata": {
        "id": "COZORmktHOLV"
      },
      "source": [
        "### Model building"
      ]
    },
    {
      "cell_type": "code",
      "metadata": {
        "id": "SSLhbXRhHNM5"
      },
      "source": [
        "np.random.seed(42)\n",
        "#tf.random.set_seed(42)"
      ],
      "execution_count": null,
      "outputs": []
    },
    {
      "cell_type": "code",
      "metadata": {
        "id": "HBomtBYaHdzO"
      },
      "source": [
        "model = kr.models.Sequential() #model object"
      ],
      "execution_count": null,
      "outputs": []
    },
    {
      "cell_type": "code",
      "metadata": {
        "id": "GDhBCqKMHnNK"
      },
      "source": [
        "model.add(kr.layers.Flattern(input_shape=[28,28]))\n",
        "#For the input layer- use flattern to convert the 28x28 (2D array) into a single array = 784"
      ],
      "execution_count": null,
      "outputs": []
    },
    {
      "cell_type": "code",
      "metadata": {
        "id": "K_oJqZYgIDhE"
      },
      "source": [
        "model.add(kr.layers.Dense(300, activation = \"relu\")) #1st Hidden layer or dense layer 300 nuerons"
      ],
      "execution_count": null,
      "outputs": []
    },
    {
      "cell_type": "code",
      "metadata": {
        "id": "mIZeZLpSIYkq"
      },
      "source": [
        "model.add(kr.layers.Dense(100, activation = \"relu\")) #2nd Hidden layer"
      ],
      "execution_count": null,
      "outputs": []
    },
    {
      "cell_type": "code",
      "metadata": {
        "id": "gcVCQwjSIina"
      },
      "source": [
        "model.add(kr.layers.Dense(10, activation = \"softmax\")) #output layer with 10 nuerons for 10 classes"
      ],
      "execution_count": null,
      "outputs": []
    },
    {
      "cell_type": "code",
      "metadata": {
        "id": "xl0IOE-NIysU"
      },
      "source": [
        "model.summary() #To look at your model- Parameters (TotalWeights + Totalbiases)"
      ],
      "execution_count": null,
      "outputs": []
    },
    {
      "cell_type": "code",
      "metadata": {
        "id": "sqAQ09pOR3hc"
      },
      "source": [
        "weights, biases = model.layers[1].get_weights() #to get the information of weights and biases"
      ],
      "execution_count": null,
      "outputs": []
    },
    {
      "cell_type": "code",
      "metadata": {
        "id": "-Y0_GeL9SGHD"
      },
      "source": [
        "weights"
      ],
      "execution_count": null,
      "outputs": []
    },
    {
      "cell_type": "markdown",
      "metadata": {
        "id": "ZcKfV8VxJxrg"
      },
      "source": [
        "## Plotting the model"
      ]
    },
    {
      "cell_type": "code",
      "metadata": {
        "id": "c3YK7TTMJ2xi"
      },
      "source": [
        "import pydot #to look into our CNN model"
      ],
      "execution_count": null,
      "outputs": []
    },
    {
      "cell_type": "code",
      "metadata": {
        "id": "QWQK2ZdJKHdS"
      },
      "source": [
        "kr.utils.plot_model(model)"
      ],
      "execution_count": null,
      "outputs": []
    },
    {
      "cell_type": "markdown",
      "metadata": {
        "id": "ducnZJ0MOWcD"
      },
      "source": [
        "## Compliling and Training a CNN Model"
      ]
    },
    {
      "cell_type": "markdown",
      "metadata": {
        "id": "DER9G0tkPHkZ"
      },
      "source": [
        "Compile method is used to set up the learning process. Use the Lossfunction (cross entropy)\n",
        "Optimizer- Stochastic Gradient Descent (for backpropagation)\n",
        "Metrics- Accuracy for classification"
      ]
    },
    {
      "cell_type": "code",
      "metadata": {
        "id": "qirLDTuXOesX"
      },
      "source": [
        "model.compile(loss = 'sparse_categorical_crossentropy', optimizer = 'sgd', metrics = [\"accuracy\"])"
      ],
      "execution_count": null,
      "outputs": []
    },
    {
      "cell_type": "code",
      "metadata": {
        "id": "ariypcuUOxde"
      },
      "source": [
        "model_history =  model.fit(x_train, y_train, epoch = 30, validation_data = (x_valid, y_valid))\n",
        "#fit x and y in our model and store in model history\n",
        "\n",
        "#loss on training data = 0.2271\n",
        "#accuracy on training data = 0.9191\n",
        "#loss on validation data = 0.3116\n",
        "#accuracy on valiation data = 0.89"
      ],
      "execution_count": null,
      "outputs": []
    },
    {
      "cell_type": "code",
      "metadata": {
        "id": "GrVO3y8_ST8a"
      },
      "source": [
        "model_history.params #You can call the parameters of the model."
      ],
      "execution_count": null,
      "outputs": []
    },
    {
      "cell_type": "code",
      "metadata": {
        "id": "fqQiJf5dSi1h"
      },
      "source": [
        "model_history.history "
      ],
      "execution_count": null,
      "outputs": []
    },
    {
      "cell_type": "markdown",
      "metadata": {
        "id": "6oEoBNXtTwGb"
      },
      "source": [
        "###Plot history"
      ]
    },
    {
      "cell_type": "code",
      "metadata": {
        "id": "LjvIEd4NT122"
      },
      "source": [
        "import pandas as pd\n",
        "pd.DataFrame(model_history.hidtory).plot(figsize=(8,5))\n",
        "plt.grid(True)\n",
        "plt.gca().set_ylim(0,1)\n",
        "plt.show()"
      ],
      "execution_count": null,
      "outputs": []
    },
    {
      "cell_type": "markdown",
      "metadata": {
        "id": "t1CKz8hKUQBJ"
      },
      "source": [
        "## Model Performance Evaluation and Prediction"
      ]
    },
    {
      "cell_type": "code",
      "metadata": {
        "id": "acvdBIeCUYJb"
      },
      "source": [
        "model.evaluate(x_test,y_test)"
      ],
      "execution_count": null,
      "outputs": []
    },
    {
      "cell_type": "code",
      "metadata": {
        "id": "twH89bd4Uc5x"
      },
      "source": [
        "x_new = x_test[:3] #Test the model on the unseen data and make use of the first 3 rows of the test data"
      ],
      "execution_count": null,
      "outputs": []
    },
    {
      "cell_type": "code",
      "metadata": {
        "id": "Mh6gNWV6UrPs"
      },
      "source": [
        "y_prob = model.predict(x_new) # there are 2 paparameters which are: probs of each class and the class itself"
      ],
      "execution_count": null,
      "outputs": []
    },
    {
      "cell_type": "code",
      "metadata": {
        "id": "2YQSwUuWU5GV"
      },
      "source": [
        "y_prob.round(2)"
      ],
      "execution_count": null,
      "outputs": []
    },
    {
      "cell_type": "code",
      "metadata": {
        "id": "CNxEGcRHU9mP"
      },
      "source": [
        "y_predict = model.predict_classess(x_new)\n",
        "y_predict"
      ],
      "execution_count": null,
      "outputs": []
    },
    {
      "cell_type": "markdown",
      "metadata": {
        "id": "fcWCxwjMWJ93"
      },
      "source": [
        "###Predicted names of the classes"
      ]
    },
    {
      "cell_type": "code",
      "metadata": {
        "id": "Hgq3iwSQWOk5"
      },
      "source": [
        "np.array(class_names)[y_predict] #call the names instead of labels"
      ],
      "execution_count": null,
      "outputs": []
    },
    {
      "cell_type": "code",
      "metadata": {
        "id": "XSe7-crGWexh"
      },
      "source": [
        "print(plt.imshow(x_test[0])) #Plotting the image of the first new dataset to confirm"
      ],
      "execution_count": null,
      "outputs": []
    },
    {
      "cell_type": "code",
      "metadata": {
        "id": "2iIEg5X8WzIv"
      },
      "source": [
        "print(plt.imshow(x_test[1])) #Plotting the image of the second new dataset to confirm"
      ],
      "execution_count": null,
      "outputs": []
    },
    {
      "cell_type": "code",
      "metadata": {
        "id": "SuEf-dcsXDcO"
      },
      "source": [
        "print(plt.imshow(x_test[2]))"
      ],
      "execution_count": null,
      "outputs": []
    }
  ]
}